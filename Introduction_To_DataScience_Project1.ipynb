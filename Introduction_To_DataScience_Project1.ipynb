{
 "cells": [
  {
   "cell_type": "markdown",
   "id": "04ff07e2",
   "metadata": {},
   "source": [
    "Assignment 1"
   ]
  },
  {
   "cell_type": "markdown",
   "id": "f6c4fefe",
   "metadata": {},
   "source": [
    "Student Name: Chris Law Zi Qing"
   ]
  },
  {
   "cell_type": "markdown",
   "id": "876c4890",
   "metadata": {},
   "source": [
    "# Task A: Data Exploration and Auditing:"
   ]
  },
  {
   "cell_type": "code",
   "execution_count": 311,
   "id": "ceecacc5",
   "metadata": {},
   "outputs": [],
   "source": [
    "import pandas as pd\n",
    "salaries = pd.read_csv('salaries.csv')"
   ]
  },
  {
   "cell_type": "code",
   "execution_count": 312,
   "id": "ab83d67f",
   "metadata": {},
   "outputs": [
    {
     "data": {
      "text/html": [
       "<div>\n",
       "<style scoped>\n",
       "    .dataframe tbody tr th:only-of-type {\n",
       "        vertical-align: middle;\n",
       "    }\n",
       "\n",
       "    .dataframe tbody tr th {\n",
       "        vertical-align: top;\n",
       "    }\n",
       "\n",
       "    .dataframe thead th {\n",
       "        text-align: right;\n",
       "    }\n",
       "</style>\n",
       "<table border=\"1\" class=\"dataframe\">\n",
       "  <thead>\n",
       "    <tr style=\"text-align: right;\">\n",
       "      <th></th>\n",
       "      <th>work_year</th>\n",
       "      <th>experience_level</th>\n",
       "      <th>employment_type</th>\n",
       "      <th>job_title</th>\n",
       "      <th>salary</th>\n",
       "      <th>salary_currency</th>\n",
       "      <th>salary_in_usd</th>\n",
       "      <th>employee_residence</th>\n",
       "      <th>remote_ratio</th>\n",
       "      <th>company_location</th>\n",
       "      <th>company_size</th>\n",
       "    </tr>\n",
       "  </thead>\n",
       "  <tbody>\n",
       "    <tr>\n",
       "      <th>0</th>\n",
       "      <td>2023</td>\n",
       "      <td>SE</td>\n",
       "      <td>FT</td>\n",
       "      <td>AI Scientist</td>\n",
       "      <td>1500000</td>\n",
       "      <td>ILS</td>\n",
       "      <td>427820</td>\n",
       "      <td>IL</td>\n",
       "      <td>0</td>\n",
       "      <td>IL</td>\n",
       "      <td>L</td>\n",
       "    </tr>\n",
       "    <tr>\n",
       "      <th>1</th>\n",
       "      <td>2023</td>\n",
       "      <td>SE</td>\n",
       "      <td>FT</td>\n",
       "      <td>Machine Learning Engineer</td>\n",
       "      <td>216000</td>\n",
       "      <td>USD</td>\n",
       "      <td>216000</td>\n",
       "      <td>US</td>\n",
       "      <td>100</td>\n",
       "      <td>US</td>\n",
       "      <td>M</td>\n",
       "    </tr>\n",
       "    <tr>\n",
       "      <th>2</th>\n",
       "      <td>2023</td>\n",
       "      <td>SE</td>\n",
       "      <td>FT</td>\n",
       "      <td>Machine Learning Engineer</td>\n",
       "      <td>184000</td>\n",
       "      <td>USD</td>\n",
       "      <td>184000</td>\n",
       "      <td>US</td>\n",
       "      <td>100</td>\n",
       "      <td>US</td>\n",
       "      <td>M</td>\n",
       "    </tr>\n",
       "    <tr>\n",
       "      <th>3</th>\n",
       "      <td>2023</td>\n",
       "      <td>SE</td>\n",
       "      <td>FT</td>\n",
       "      <td>Data Engineer</td>\n",
       "      <td>180000</td>\n",
       "      <td>USD</td>\n",
       "      <td>180000</td>\n",
       "      <td>US</td>\n",
       "      <td>100</td>\n",
       "      <td>US</td>\n",
       "      <td>M</td>\n",
       "    </tr>\n",
       "    <tr>\n",
       "      <th>4</th>\n",
       "      <td>2023</td>\n",
       "      <td>SE</td>\n",
       "      <td>FT</td>\n",
       "      <td>Data Engineer</td>\n",
       "      <td>165000</td>\n",
       "      <td>USD</td>\n",
       "      <td>165000</td>\n",
       "      <td>US</td>\n",
       "      <td>100</td>\n",
       "      <td>US</td>\n",
       "      <td>M</td>\n",
       "    </tr>\n",
       "    <tr>\n",
       "      <th>...</th>\n",
       "      <td>...</td>\n",
       "      <td>...</td>\n",
       "      <td>...</td>\n",
       "      <td>...</td>\n",
       "      <td>...</td>\n",
       "      <td>...</td>\n",
       "      <td>...</td>\n",
       "      <td>...</td>\n",
       "      <td>...</td>\n",
       "      <td>...</td>\n",
       "      <td>...</td>\n",
       "    </tr>\n",
       "    <tr>\n",
       "      <th>3222</th>\n",
       "      <td>2020</td>\n",
       "      <td>SE</td>\n",
       "      <td>FT</td>\n",
       "      <td>Data Scientist</td>\n",
       "      <td>412000</td>\n",
       "      <td>USD</td>\n",
       "      <td>412000</td>\n",
       "      <td>US</td>\n",
       "      <td>100</td>\n",
       "      <td>US</td>\n",
       "      <td>L</td>\n",
       "    </tr>\n",
       "    <tr>\n",
       "      <th>3223</th>\n",
       "      <td>2021</td>\n",
       "      <td>MI</td>\n",
       "      <td>FT</td>\n",
       "      <td>Principal Data Scientist</td>\n",
       "      <td>151000</td>\n",
       "      <td>USD</td>\n",
       "      <td>151000</td>\n",
       "      <td>US</td>\n",
       "      <td>100</td>\n",
       "      <td>US</td>\n",
       "      <td>L</td>\n",
       "    </tr>\n",
       "    <tr>\n",
       "      <th>3224</th>\n",
       "      <td>2020</td>\n",
       "      <td>EN</td>\n",
       "      <td>FT</td>\n",
       "      <td>Data Scientist</td>\n",
       "      <td>105000</td>\n",
       "      <td>USD</td>\n",
       "      <td>105000</td>\n",
       "      <td>US</td>\n",
       "      <td>100</td>\n",
       "      <td>US</td>\n",
       "      <td>S</td>\n",
       "    </tr>\n",
       "    <tr>\n",
       "      <th>3225</th>\n",
       "      <td>2020</td>\n",
       "      <td>EN</td>\n",
       "      <td>CT</td>\n",
       "      <td>Business Data Analyst</td>\n",
       "      <td>100000</td>\n",
       "      <td>USD</td>\n",
       "      <td>100000</td>\n",
       "      <td>US</td>\n",
       "      <td>100</td>\n",
       "      <td>US</td>\n",
       "      <td>L</td>\n",
       "    </tr>\n",
       "    <tr>\n",
       "      <th>3226</th>\n",
       "      <td>2021</td>\n",
       "      <td>SE</td>\n",
       "      <td>FT</td>\n",
       "      <td>Data Science Manager</td>\n",
       "      <td>7000000</td>\n",
       "      <td>INR</td>\n",
       "      <td>94665</td>\n",
       "      <td>IN</td>\n",
       "      <td>50</td>\n",
       "      <td>IN</td>\n",
       "      <td>L</td>\n",
       "    </tr>\n",
       "  </tbody>\n",
       "</table>\n",
       "<p>3227 rows × 11 columns</p>\n",
       "</div>"
      ],
      "text/plain": [
       "      work_year experience_level employment_type                  job_title  \\\n",
       "0          2023               SE              FT               AI Scientist   \n",
       "1          2023               SE              FT  Machine Learning Engineer   \n",
       "2          2023               SE              FT  Machine Learning Engineer   \n",
       "3          2023               SE              FT              Data Engineer   \n",
       "4          2023               SE              FT              Data Engineer   \n",
       "...         ...              ...             ...                        ...   \n",
       "3222       2020               SE              FT             Data Scientist   \n",
       "3223       2021               MI              FT   Principal Data Scientist   \n",
       "3224       2020               EN              FT             Data Scientist   \n",
       "3225       2020               EN              CT      Business Data Analyst   \n",
       "3226       2021               SE              FT       Data Science Manager   \n",
       "\n",
       "       salary salary_currency  salary_in_usd employee_residence  remote_ratio  \\\n",
       "0     1500000             ILS         427820                 IL             0   \n",
       "1      216000             USD         216000                 US           100   \n",
       "2      184000             USD         184000                 US           100   \n",
       "3      180000             USD         180000                 US           100   \n",
       "4      165000             USD         165000                 US           100   \n",
       "...       ...             ...            ...                ...           ...   \n",
       "3222   412000             USD         412000                 US           100   \n",
       "3223   151000             USD         151000                 US           100   \n",
       "3224   105000             USD         105000                 US           100   \n",
       "3225   100000             USD         100000                 US           100   \n",
       "3226  7000000             INR          94665                 IN            50   \n",
       "\n",
       "     company_location company_size  \n",
       "0                  IL            L  \n",
       "1                  US            M  \n",
       "2                  US            M  \n",
       "3                  US            M  \n",
       "4                  US            M  \n",
       "...               ...          ...  \n",
       "3222               US            L  \n",
       "3223               US            L  \n",
       "3224               US            S  \n",
       "3225               US            L  \n",
       "3226               IN            L  \n",
       "\n",
       "[3227 rows x 11 columns]"
      ]
     },
     "execution_count": 312,
     "metadata": {},
     "output_type": "execute_result"
    }
   ],
   "source": [
    "salaries"
   ]
  },
  {
   "cell_type": "markdown",
   "id": "8263823f",
   "metadata": {},
   "source": [
    "### Question A1: How many data instances and variables exist in the given dataset as indicated by the rows and columns?"
   ]
  },
  {
   "cell_type": "code",
   "execution_count": 313,
   "id": "17d9fce9",
   "metadata": {},
   "outputs": [
    {
     "data": {
      "text/plain": [
       "(3227, 11)"
      ]
     },
     "execution_count": 313,
     "metadata": {},
     "output_type": "execute_result"
    }
   ],
   "source": [
    "salaries.shape"
   ]
  },
  {
   "cell_type": "markdown",
   "id": "a6f5f94f",
   "metadata": {},
   "source": [
    "The returning output shows that the dataset has 3227 rows which are the data instances and 11 columns which are the variables"
   ]
  },
  {
   "cell_type": "markdown",
   "id": "8215d19e",
   "metadata": {},
   "source": [
    "### Question A2: Print out the first 8 rows, last 12 rows and random 6 rows of data."
   ]
  },
  {
   "cell_type": "code",
   "execution_count": 314,
   "id": "b218d8c5",
   "metadata": {},
   "outputs": [
    {
     "data": {
      "text/html": [
       "<div>\n",
       "<style scoped>\n",
       "    .dataframe tbody tr th:only-of-type {\n",
       "        vertical-align: middle;\n",
       "    }\n",
       "\n",
       "    .dataframe tbody tr th {\n",
       "        vertical-align: top;\n",
       "    }\n",
       "\n",
       "    .dataframe thead th {\n",
       "        text-align: right;\n",
       "    }\n",
       "</style>\n",
       "<table border=\"1\" class=\"dataframe\">\n",
       "  <thead>\n",
       "    <tr style=\"text-align: right;\">\n",
       "      <th></th>\n",
       "      <th>work_year</th>\n",
       "      <th>experience_level</th>\n",
       "      <th>employment_type</th>\n",
       "      <th>job_title</th>\n",
       "      <th>salary</th>\n",
       "      <th>salary_currency</th>\n",
       "      <th>salary_in_usd</th>\n",
       "      <th>employee_residence</th>\n",
       "      <th>remote_ratio</th>\n",
       "      <th>company_location</th>\n",
       "      <th>company_size</th>\n",
       "    </tr>\n",
       "  </thead>\n",
       "  <tbody>\n",
       "    <tr>\n",
       "      <th>0</th>\n",
       "      <td>2023</td>\n",
       "      <td>SE</td>\n",
       "      <td>FT</td>\n",
       "      <td>AI Scientist</td>\n",
       "      <td>1500000</td>\n",
       "      <td>ILS</td>\n",
       "      <td>427820</td>\n",
       "      <td>IL</td>\n",
       "      <td>0</td>\n",
       "      <td>IL</td>\n",
       "      <td>L</td>\n",
       "    </tr>\n",
       "    <tr>\n",
       "      <th>1</th>\n",
       "      <td>2023</td>\n",
       "      <td>SE</td>\n",
       "      <td>FT</td>\n",
       "      <td>Machine Learning Engineer</td>\n",
       "      <td>216000</td>\n",
       "      <td>USD</td>\n",
       "      <td>216000</td>\n",
       "      <td>US</td>\n",
       "      <td>100</td>\n",
       "      <td>US</td>\n",
       "      <td>M</td>\n",
       "    </tr>\n",
       "    <tr>\n",
       "      <th>2</th>\n",
       "      <td>2023</td>\n",
       "      <td>SE</td>\n",
       "      <td>FT</td>\n",
       "      <td>Machine Learning Engineer</td>\n",
       "      <td>184000</td>\n",
       "      <td>USD</td>\n",
       "      <td>184000</td>\n",
       "      <td>US</td>\n",
       "      <td>100</td>\n",
       "      <td>US</td>\n",
       "      <td>M</td>\n",
       "    </tr>\n",
       "    <tr>\n",
       "      <th>3</th>\n",
       "      <td>2023</td>\n",
       "      <td>SE</td>\n",
       "      <td>FT</td>\n",
       "      <td>Data Engineer</td>\n",
       "      <td>180000</td>\n",
       "      <td>USD</td>\n",
       "      <td>180000</td>\n",
       "      <td>US</td>\n",
       "      <td>100</td>\n",
       "      <td>US</td>\n",
       "      <td>M</td>\n",
       "    </tr>\n",
       "    <tr>\n",
       "      <th>4</th>\n",
       "      <td>2023</td>\n",
       "      <td>SE</td>\n",
       "      <td>FT</td>\n",
       "      <td>Data Engineer</td>\n",
       "      <td>165000</td>\n",
       "      <td>USD</td>\n",
       "      <td>165000</td>\n",
       "      <td>US</td>\n",
       "      <td>100</td>\n",
       "      <td>US</td>\n",
       "      <td>M</td>\n",
       "    </tr>\n",
       "    <tr>\n",
       "      <th>5</th>\n",
       "      <td>2023</td>\n",
       "      <td>SE</td>\n",
       "      <td>FT</td>\n",
       "      <td>Data Scientist</td>\n",
       "      <td>185900</td>\n",
       "      <td>USD</td>\n",
       "      <td>185900</td>\n",
       "      <td>US</td>\n",
       "      <td>0</td>\n",
       "      <td>US</td>\n",
       "      <td>M</td>\n",
       "    </tr>\n",
       "    <tr>\n",
       "      <th>6</th>\n",
       "      <td>2023</td>\n",
       "      <td>SE</td>\n",
       "      <td>FT</td>\n",
       "      <td>Data Scientist</td>\n",
       "      <td>129300</td>\n",
       "      <td>USD</td>\n",
       "      <td>129300</td>\n",
       "      <td>US</td>\n",
       "      <td>0</td>\n",
       "      <td>US</td>\n",
       "      <td>M</td>\n",
       "    </tr>\n",
       "    <tr>\n",
       "      <th>7</th>\n",
       "      <td>2023</td>\n",
       "      <td>SE</td>\n",
       "      <td>FT</td>\n",
       "      <td>Data Engineer</td>\n",
       "      <td>145000</td>\n",
       "      <td>USD</td>\n",
       "      <td>145000</td>\n",
       "      <td>US</td>\n",
       "      <td>0</td>\n",
       "      <td>US</td>\n",
       "      <td>M</td>\n",
       "    </tr>\n",
       "  </tbody>\n",
       "</table>\n",
       "</div>"
      ],
      "text/plain": [
       "   work_year experience_level employment_type                  job_title  \\\n",
       "0       2023               SE              FT               AI Scientist   \n",
       "1       2023               SE              FT  Machine Learning Engineer   \n",
       "2       2023               SE              FT  Machine Learning Engineer   \n",
       "3       2023               SE              FT              Data Engineer   \n",
       "4       2023               SE              FT              Data Engineer   \n",
       "5       2023               SE              FT             Data Scientist   \n",
       "6       2023               SE              FT             Data Scientist   \n",
       "7       2023               SE              FT              Data Engineer   \n",
       "\n",
       "    salary salary_currency  salary_in_usd employee_residence  remote_ratio  \\\n",
       "0  1500000             ILS         427820                 IL             0   \n",
       "1   216000             USD         216000                 US           100   \n",
       "2   184000             USD         184000                 US           100   \n",
       "3   180000             USD         180000                 US           100   \n",
       "4   165000             USD         165000                 US           100   \n",
       "5   185900             USD         185900                 US             0   \n",
       "6   129300             USD         129300                 US             0   \n",
       "7   145000             USD         145000                 US             0   \n",
       "\n",
       "  company_location company_size  \n",
       "0               IL            L  \n",
       "1               US            M  \n",
       "2               US            M  \n",
       "3               US            M  \n",
       "4               US            M  \n",
       "5               US            M  \n",
       "6               US            M  \n",
       "7               US            M  "
      ]
     },
     "execution_count": 314,
     "metadata": {},
     "output_type": "execute_result"
    }
   ],
   "source": [
    "salaries.head(8) #displaying the first 8 rows of the dataset"
   ]
  },
  {
   "cell_type": "code",
   "execution_count": 315,
   "id": "1edbfb05",
   "metadata": {},
   "outputs": [
    {
     "data": {
      "text/html": [
       "<div>\n",
       "<style scoped>\n",
       "    .dataframe tbody tr th:only-of-type {\n",
       "        vertical-align: middle;\n",
       "    }\n",
       "\n",
       "    .dataframe tbody tr th {\n",
       "        vertical-align: top;\n",
       "    }\n",
       "\n",
       "    .dataframe thead th {\n",
       "        text-align: right;\n",
       "    }\n",
       "</style>\n",
       "<table border=\"1\" class=\"dataframe\">\n",
       "  <thead>\n",
       "    <tr style=\"text-align: right;\">\n",
       "      <th></th>\n",
       "      <th>work_year</th>\n",
       "      <th>experience_level</th>\n",
       "      <th>employment_type</th>\n",
       "      <th>job_title</th>\n",
       "      <th>salary</th>\n",
       "      <th>salary_currency</th>\n",
       "      <th>salary_in_usd</th>\n",
       "      <th>employee_residence</th>\n",
       "      <th>remote_ratio</th>\n",
       "      <th>company_location</th>\n",
       "      <th>company_size</th>\n",
       "    </tr>\n",
       "  </thead>\n",
       "  <tbody>\n",
       "    <tr>\n",
       "      <th>3215</th>\n",
       "      <td>2020</td>\n",
       "      <td>MI</td>\n",
       "      <td>FT</td>\n",
       "      <td>Data Engineer</td>\n",
       "      <td>130800</td>\n",
       "      <td>USD</td>\n",
       "      <td>130800</td>\n",
       "      <td>ES</td>\n",
       "      <td>100</td>\n",
       "      <td>US</td>\n",
       "      <td>M</td>\n",
       "    </tr>\n",
       "    <tr>\n",
       "      <th>3216</th>\n",
       "      <td>2020</td>\n",
       "      <td>SE</td>\n",
       "      <td>FT</td>\n",
       "      <td>Machine Learning Engineer</td>\n",
       "      <td>40000</td>\n",
       "      <td>EUR</td>\n",
       "      <td>45618</td>\n",
       "      <td>HR</td>\n",
       "      <td>100</td>\n",
       "      <td>HR</td>\n",
       "      <td>S</td>\n",
       "    </tr>\n",
       "    <tr>\n",
       "      <th>3217</th>\n",
       "      <td>2021</td>\n",
       "      <td>SE</td>\n",
       "      <td>FT</td>\n",
       "      <td>Director of Data Science</td>\n",
       "      <td>168000</td>\n",
       "      <td>USD</td>\n",
       "      <td>168000</td>\n",
       "      <td>JP</td>\n",
       "      <td>0</td>\n",
       "      <td>JP</td>\n",
       "      <td>S</td>\n",
       "    </tr>\n",
       "    <tr>\n",
       "      <th>3218</th>\n",
       "      <td>2021</td>\n",
       "      <td>MI</td>\n",
       "      <td>FT</td>\n",
       "      <td>Data Scientist</td>\n",
       "      <td>160000</td>\n",
       "      <td>SGD</td>\n",
       "      <td>119059</td>\n",
       "      <td>SG</td>\n",
       "      <td>100</td>\n",
       "      <td>IL</td>\n",
       "      <td>M</td>\n",
       "    </tr>\n",
       "    <tr>\n",
       "      <th>3219</th>\n",
       "      <td>2021</td>\n",
       "      <td>MI</td>\n",
       "      <td>FT</td>\n",
       "      <td>Applied Machine Learning Scientist</td>\n",
       "      <td>423000</td>\n",
       "      <td>USD</td>\n",
       "      <td>423000</td>\n",
       "      <td>US</td>\n",
       "      <td>50</td>\n",
       "      <td>US</td>\n",
       "      <td>L</td>\n",
       "    </tr>\n",
       "    <tr>\n",
       "      <th>3220</th>\n",
       "      <td>2021</td>\n",
       "      <td>MI</td>\n",
       "      <td>FT</td>\n",
       "      <td>Data Engineer</td>\n",
       "      <td>24000</td>\n",
       "      <td>EUR</td>\n",
       "      <td>28369</td>\n",
       "      <td>MT</td>\n",
       "      <td>50</td>\n",
       "      <td>MT</td>\n",
       "      <td>L</td>\n",
       "    </tr>\n",
       "    <tr>\n",
       "      <th>3221</th>\n",
       "      <td>2021</td>\n",
       "      <td>SE</td>\n",
       "      <td>FT</td>\n",
       "      <td>Data Specialist</td>\n",
       "      <td>165000</td>\n",
       "      <td>USD</td>\n",
       "      <td>165000</td>\n",
       "      <td>US</td>\n",
       "      <td>100</td>\n",
       "      <td>US</td>\n",
       "      <td>L</td>\n",
       "    </tr>\n",
       "    <tr>\n",
       "      <th>3222</th>\n",
       "      <td>2020</td>\n",
       "      <td>SE</td>\n",
       "      <td>FT</td>\n",
       "      <td>Data Scientist</td>\n",
       "      <td>412000</td>\n",
       "      <td>USD</td>\n",
       "      <td>412000</td>\n",
       "      <td>US</td>\n",
       "      <td>100</td>\n",
       "      <td>US</td>\n",
       "      <td>L</td>\n",
       "    </tr>\n",
       "    <tr>\n",
       "      <th>3223</th>\n",
       "      <td>2021</td>\n",
       "      <td>MI</td>\n",
       "      <td>FT</td>\n",
       "      <td>Principal Data Scientist</td>\n",
       "      <td>151000</td>\n",
       "      <td>USD</td>\n",
       "      <td>151000</td>\n",
       "      <td>US</td>\n",
       "      <td>100</td>\n",
       "      <td>US</td>\n",
       "      <td>L</td>\n",
       "    </tr>\n",
       "    <tr>\n",
       "      <th>3224</th>\n",
       "      <td>2020</td>\n",
       "      <td>EN</td>\n",
       "      <td>FT</td>\n",
       "      <td>Data Scientist</td>\n",
       "      <td>105000</td>\n",
       "      <td>USD</td>\n",
       "      <td>105000</td>\n",
       "      <td>US</td>\n",
       "      <td>100</td>\n",
       "      <td>US</td>\n",
       "      <td>S</td>\n",
       "    </tr>\n",
       "    <tr>\n",
       "      <th>3225</th>\n",
       "      <td>2020</td>\n",
       "      <td>EN</td>\n",
       "      <td>CT</td>\n",
       "      <td>Business Data Analyst</td>\n",
       "      <td>100000</td>\n",
       "      <td>USD</td>\n",
       "      <td>100000</td>\n",
       "      <td>US</td>\n",
       "      <td>100</td>\n",
       "      <td>US</td>\n",
       "      <td>L</td>\n",
       "    </tr>\n",
       "    <tr>\n",
       "      <th>3226</th>\n",
       "      <td>2021</td>\n",
       "      <td>SE</td>\n",
       "      <td>FT</td>\n",
       "      <td>Data Science Manager</td>\n",
       "      <td>7000000</td>\n",
       "      <td>INR</td>\n",
       "      <td>94665</td>\n",
       "      <td>IN</td>\n",
       "      <td>50</td>\n",
       "      <td>IN</td>\n",
       "      <td>L</td>\n",
       "    </tr>\n",
       "  </tbody>\n",
       "</table>\n",
       "</div>"
      ],
      "text/plain": [
       "      work_year experience_level employment_type  \\\n",
       "3215       2020               MI              FT   \n",
       "3216       2020               SE              FT   \n",
       "3217       2021               SE              FT   \n",
       "3218       2021               MI              FT   \n",
       "3219       2021               MI              FT   \n",
       "3220       2021               MI              FT   \n",
       "3221       2021               SE              FT   \n",
       "3222       2020               SE              FT   \n",
       "3223       2021               MI              FT   \n",
       "3224       2020               EN              FT   \n",
       "3225       2020               EN              CT   \n",
       "3226       2021               SE              FT   \n",
       "\n",
       "                               job_title   salary salary_currency  \\\n",
       "3215                       Data Engineer   130800             USD   \n",
       "3216           Machine Learning Engineer    40000             EUR   \n",
       "3217            Director of Data Science   168000             USD   \n",
       "3218                      Data Scientist   160000             SGD   \n",
       "3219  Applied Machine Learning Scientist   423000             USD   \n",
       "3220                       Data Engineer    24000             EUR   \n",
       "3221                     Data Specialist   165000             USD   \n",
       "3222                      Data Scientist   412000             USD   \n",
       "3223            Principal Data Scientist   151000             USD   \n",
       "3224                      Data Scientist   105000             USD   \n",
       "3225               Business Data Analyst   100000             USD   \n",
       "3226                Data Science Manager  7000000             INR   \n",
       "\n",
       "      salary_in_usd employee_residence  remote_ratio company_location  \\\n",
       "3215         130800                 ES           100               US   \n",
       "3216          45618                 HR           100               HR   \n",
       "3217         168000                 JP             0               JP   \n",
       "3218         119059                 SG           100               IL   \n",
       "3219         423000                 US            50               US   \n",
       "3220          28369                 MT            50               MT   \n",
       "3221         165000                 US           100               US   \n",
       "3222         412000                 US           100               US   \n",
       "3223         151000                 US           100               US   \n",
       "3224         105000                 US           100               US   \n",
       "3225         100000                 US           100               US   \n",
       "3226          94665                 IN            50               IN   \n",
       "\n",
       "     company_size  \n",
       "3215            M  \n",
       "3216            S  \n",
       "3217            S  \n",
       "3218            M  \n",
       "3219            L  \n",
       "3220            L  \n",
       "3221            L  \n",
       "3222            L  \n",
       "3223            L  \n",
       "3224            S  \n",
       "3225            L  \n",
       "3226            L  "
      ]
     },
     "execution_count": 315,
     "metadata": {},
     "output_type": "execute_result"
    }
   ],
   "source": [
    "salaries.tail(12) #displaying the last 12 rows of the dataset"
   ]
  },
  {
   "cell_type": "code",
   "execution_count": 316,
   "id": "132a5532",
   "metadata": {},
   "outputs": [
    {
     "data": {
      "text/html": [
       "<div>\n",
       "<style scoped>\n",
       "    .dataframe tbody tr th:only-of-type {\n",
       "        vertical-align: middle;\n",
       "    }\n",
       "\n",
       "    .dataframe tbody tr th {\n",
       "        vertical-align: top;\n",
       "    }\n",
       "\n",
       "    .dataframe thead th {\n",
       "        text-align: right;\n",
       "    }\n",
       "</style>\n",
       "<table border=\"1\" class=\"dataframe\">\n",
       "  <thead>\n",
       "    <tr style=\"text-align: right;\">\n",
       "      <th></th>\n",
       "      <th>work_year</th>\n",
       "      <th>experience_level</th>\n",
       "      <th>employment_type</th>\n",
       "      <th>job_title</th>\n",
       "      <th>salary</th>\n",
       "      <th>salary_currency</th>\n",
       "      <th>salary_in_usd</th>\n",
       "      <th>employee_residence</th>\n",
       "      <th>remote_ratio</th>\n",
       "      <th>company_location</th>\n",
       "      <th>company_size</th>\n",
       "    </tr>\n",
       "  </thead>\n",
       "  <tbody>\n",
       "    <tr>\n",
       "      <th>2669</th>\n",
       "      <td>2022</td>\n",
       "      <td>MI</td>\n",
       "      <td>FT</td>\n",
       "      <td>Data Analyst</td>\n",
       "      <td>30000</td>\n",
       "      <td>GBP</td>\n",
       "      <td>36940</td>\n",
       "      <td>GB</td>\n",
       "      <td>100</td>\n",
       "      <td>GB</td>\n",
       "      <td>M</td>\n",
       "    </tr>\n",
       "    <tr>\n",
       "      <th>1958</th>\n",
       "      <td>2022</td>\n",
       "      <td>SE</td>\n",
       "      <td>FT</td>\n",
       "      <td>Analytics Engineer</td>\n",
       "      <td>84000</td>\n",
       "      <td>GBP</td>\n",
       "      <td>103432</td>\n",
       "      <td>GB</td>\n",
       "      <td>0</td>\n",
       "      <td>GB</td>\n",
       "      <td>M</td>\n",
       "    </tr>\n",
       "    <tr>\n",
       "      <th>500</th>\n",
       "      <td>2023</td>\n",
       "      <td>SE</td>\n",
       "      <td>FT</td>\n",
       "      <td>Machine Learning Engineer</td>\n",
       "      <td>139500</td>\n",
       "      <td>USD</td>\n",
       "      <td>139500</td>\n",
       "      <td>US</td>\n",
       "      <td>0</td>\n",
       "      <td>US</td>\n",
       "      <td>M</td>\n",
       "    </tr>\n",
       "    <tr>\n",
       "      <th>2037</th>\n",
       "      <td>2022</td>\n",
       "      <td>SE</td>\n",
       "      <td>FT</td>\n",
       "      <td>Data Analyst</td>\n",
       "      <td>236600</td>\n",
       "      <td>USD</td>\n",
       "      <td>236600</td>\n",
       "      <td>US</td>\n",
       "      <td>100</td>\n",
       "      <td>US</td>\n",
       "      <td>M</td>\n",
       "    </tr>\n",
       "    <tr>\n",
       "      <th>196</th>\n",
       "      <td>2023</td>\n",
       "      <td>SE</td>\n",
       "      <td>FT</td>\n",
       "      <td>Analytics Engineer</td>\n",
       "      <td>275300</td>\n",
       "      <td>USD</td>\n",
       "      <td>275300</td>\n",
       "      <td>US</td>\n",
       "      <td>100</td>\n",
       "      <td>US</td>\n",
       "      <td>M</td>\n",
       "    </tr>\n",
       "    <tr>\n",
       "      <th>320</th>\n",
       "      <td>2023</td>\n",
       "      <td>SE</td>\n",
       "      <td>FT</td>\n",
       "      <td>Machine Learning Engineer</td>\n",
       "      <td>122700</td>\n",
       "      <td>USD</td>\n",
       "      <td>122700</td>\n",
       "      <td>US</td>\n",
       "      <td>0</td>\n",
       "      <td>US</td>\n",
       "      <td>M</td>\n",
       "    </tr>\n",
       "  </tbody>\n",
       "</table>\n",
       "</div>"
      ],
      "text/plain": [
       "      work_year experience_level employment_type                  job_title  \\\n",
       "2669       2022               MI              FT               Data Analyst   \n",
       "1958       2022               SE              FT         Analytics Engineer   \n",
       "500        2023               SE              FT  Machine Learning Engineer   \n",
       "2037       2022               SE              FT               Data Analyst   \n",
       "196        2023               SE              FT         Analytics Engineer   \n",
       "320        2023               SE              FT  Machine Learning Engineer   \n",
       "\n",
       "      salary salary_currency  salary_in_usd employee_residence  remote_ratio  \\\n",
       "2669   30000             GBP          36940                 GB           100   \n",
       "1958   84000             GBP         103432                 GB             0   \n",
       "500   139500             USD         139500                 US             0   \n",
       "2037  236600             USD         236600                 US           100   \n",
       "196   275300             USD         275300                 US           100   \n",
       "320   122700             USD         122700                 US             0   \n",
       "\n",
       "     company_location company_size  \n",
       "2669               GB            M  \n",
       "1958               GB            M  \n",
       "500                US            M  \n",
       "2037               US            M  \n",
       "196                US            M  \n",
       "320                US            M  "
      ]
     },
     "execution_count": 316,
     "metadata": {},
     "output_type": "execute_result"
    }
   ],
   "source": [
    "salaries.sample(6) #displaying randomly selected 6 rows of the dataset"
   ]
  },
  {
   "cell_type": "markdown",
   "id": "c44b58b3",
   "metadata": {},
   "source": [
    "### Question A3: What are the different data types for each column?"
   ]
  },
  {
   "cell_type": "code",
   "execution_count": 317,
   "id": "487d5c6a",
   "metadata": {},
   "outputs": [
    {
     "data": {
      "text/plain": [
       "work_year              int64\n",
       "experience_level      object\n",
       "employment_type       object\n",
       "job_title             object\n",
       "salary                 int64\n",
       "salary_currency       object\n",
       "salary_in_usd          int64\n",
       "employee_residence    object\n",
       "remote_ratio           int64\n",
       "company_location      object\n",
       "company_size          object\n",
       "dtype: object"
      ]
     },
     "execution_count": 317,
     "metadata": {},
     "output_type": "execute_result"
    }
   ],
   "source": [
    "salaries.dtypes"
   ]
  },
  {
   "cell_type": "markdown",
   "id": "b6c29eb2",
   "metadata": {},
   "source": [
    "The returning results show that there are two main datatypes:\n",
    "\n",
    "Integer datatype (int64):\n",
    "\n",
    "-work_year, salary, salary_in_usd, remote_ratio\n",
    "\n",
    "Object datatype (object):\n",
    "\n",
    "-experience_level,employment_type, job_title, salary_currency, employee_residence, company_location , company_size\n"
   ]
  },
  {
   "cell_type": "markdown",
   "id": "aafebe83",
   "metadata": {},
   "source": [
    "### Question A4: Conversion"
   ]
  },
  {
   "cell_type": "code",
   "execution_count": 318,
   "id": "a5547432",
   "metadata": {},
   "outputs": [
    {
     "data": {
      "text/html": [
       "<div>\n",
       "<style scoped>\n",
       "    .dataframe tbody tr th:only-of-type {\n",
       "        vertical-align: middle;\n",
       "    }\n",
       "\n",
       "    .dataframe tbody tr th {\n",
       "        vertical-align: top;\n",
       "    }\n",
       "\n",
       "    .dataframe thead th {\n",
       "        text-align: right;\n",
       "    }\n",
       "</style>\n",
       "<table border=\"1\" class=\"dataframe\">\n",
       "  <thead>\n",
       "    <tr style=\"text-align: right;\">\n",
       "      <th></th>\n",
       "      <th>salary_in_usd</th>\n",
       "    </tr>\n",
       "  </thead>\n",
       "  <tbody>\n",
       "    <tr>\n",
       "      <th>0</th>\n",
       "      <td>427820</td>\n",
       "    </tr>\n",
       "    <tr>\n",
       "      <th>1</th>\n",
       "      <td>216000</td>\n",
       "    </tr>\n",
       "    <tr>\n",
       "      <th>2</th>\n",
       "      <td>184000</td>\n",
       "    </tr>\n",
       "    <tr>\n",
       "      <th>3</th>\n",
       "      <td>180000</td>\n",
       "    </tr>\n",
       "    <tr>\n",
       "      <th>4</th>\n",
       "      <td>165000</td>\n",
       "    </tr>\n",
       "  </tbody>\n",
       "</table>\n",
       "</div>"
      ],
      "text/plain": [
       "   salary_in_usd\n",
       "0         427820\n",
       "1         216000\n",
       "2         184000\n",
       "3         180000\n",
       "4         165000"
      ]
     },
     "execution_count": 318,
     "metadata": {},
     "output_type": "execute_result"
    }
   ],
   "source": [
    "salaries[['salary_in_usd']].head() #displaying the output before conversion and currently now is at USD form"
   ]
  },
  {
   "cell_type": "code",
   "execution_count": 319,
   "id": "66589e16",
   "metadata": {},
   "outputs": [],
   "source": [
    "currency_exchange_rate = 4.47 #defining currency_exchange_rate with the value of 4.47 as 1 USD = 4.47 MYR"
   ]
  },
  {
   "cell_type": "code",
   "execution_count": 320,
   "id": "cf53c72f",
   "metadata": {},
   "outputs": [],
   "source": [
    "salaries['salary_in_myr'] = salaries['salary_in_usd'] * currency_exchange_rate"
   ]
  },
  {
   "cell_type": "markdown",
   "id": "06fca978",
   "metadata": {},
   "source": [
    "To obtain the conversion, we will multiply salary_in_usd with the exchange rate we defined earlier and by creating a new column, we simply just put the column name that we want and in this case is salary_in_myr and use this to equal to the multiplication"
   ]
  },
  {
   "cell_type": "code",
   "execution_count": 321,
   "id": "26e9d5fa",
   "metadata": {},
   "outputs": [
    {
     "data": {
      "text/html": [
       "<div>\n",
       "<style scoped>\n",
       "    .dataframe tbody tr th:only-of-type {\n",
       "        vertical-align: middle;\n",
       "    }\n",
       "\n",
       "    .dataframe tbody tr th {\n",
       "        vertical-align: top;\n",
       "    }\n",
       "\n",
       "    .dataframe thead th {\n",
       "        text-align: right;\n",
       "    }\n",
       "</style>\n",
       "<table border=\"1\" class=\"dataframe\">\n",
       "  <thead>\n",
       "    <tr style=\"text-align: right;\">\n",
       "      <th></th>\n",
       "      <th>work_year</th>\n",
       "      <th>experience_level</th>\n",
       "      <th>employment_type</th>\n",
       "      <th>job_title</th>\n",
       "      <th>salary</th>\n",
       "      <th>salary_currency</th>\n",
       "      <th>salary_in_usd</th>\n",
       "      <th>employee_residence</th>\n",
       "      <th>remote_ratio</th>\n",
       "      <th>company_location</th>\n",
       "      <th>company_size</th>\n",
       "      <th>salary_in_myr</th>\n",
       "    </tr>\n",
       "  </thead>\n",
       "  <tbody>\n",
       "    <tr>\n",
       "      <th>0</th>\n",
       "      <td>2023</td>\n",
       "      <td>SE</td>\n",
       "      <td>FT</td>\n",
       "      <td>AI Scientist</td>\n",
       "      <td>1500000</td>\n",
       "      <td>ILS</td>\n",
       "      <td>427820</td>\n",
       "      <td>IL</td>\n",
       "      <td>0</td>\n",
       "      <td>IL</td>\n",
       "      <td>L</td>\n",
       "      <td>1912355.40</td>\n",
       "    </tr>\n",
       "    <tr>\n",
       "      <th>1</th>\n",
       "      <td>2023</td>\n",
       "      <td>SE</td>\n",
       "      <td>FT</td>\n",
       "      <td>Machine Learning Engineer</td>\n",
       "      <td>216000</td>\n",
       "      <td>USD</td>\n",
       "      <td>216000</td>\n",
       "      <td>US</td>\n",
       "      <td>100</td>\n",
       "      <td>US</td>\n",
       "      <td>M</td>\n",
       "      <td>965520.00</td>\n",
       "    </tr>\n",
       "    <tr>\n",
       "      <th>2</th>\n",
       "      <td>2023</td>\n",
       "      <td>SE</td>\n",
       "      <td>FT</td>\n",
       "      <td>Machine Learning Engineer</td>\n",
       "      <td>184000</td>\n",
       "      <td>USD</td>\n",
       "      <td>184000</td>\n",
       "      <td>US</td>\n",
       "      <td>100</td>\n",
       "      <td>US</td>\n",
       "      <td>M</td>\n",
       "      <td>822480.00</td>\n",
       "    </tr>\n",
       "    <tr>\n",
       "      <th>3</th>\n",
       "      <td>2023</td>\n",
       "      <td>SE</td>\n",
       "      <td>FT</td>\n",
       "      <td>Data Engineer</td>\n",
       "      <td>180000</td>\n",
       "      <td>USD</td>\n",
       "      <td>180000</td>\n",
       "      <td>US</td>\n",
       "      <td>100</td>\n",
       "      <td>US</td>\n",
       "      <td>M</td>\n",
       "      <td>804600.00</td>\n",
       "    </tr>\n",
       "    <tr>\n",
       "      <th>4</th>\n",
       "      <td>2023</td>\n",
       "      <td>SE</td>\n",
       "      <td>FT</td>\n",
       "      <td>Data Engineer</td>\n",
       "      <td>165000</td>\n",
       "      <td>USD</td>\n",
       "      <td>165000</td>\n",
       "      <td>US</td>\n",
       "      <td>100</td>\n",
       "      <td>US</td>\n",
       "      <td>M</td>\n",
       "      <td>737550.00</td>\n",
       "    </tr>\n",
       "    <tr>\n",
       "      <th>...</th>\n",
       "      <td>...</td>\n",
       "      <td>...</td>\n",
       "      <td>...</td>\n",
       "      <td>...</td>\n",
       "      <td>...</td>\n",
       "      <td>...</td>\n",
       "      <td>...</td>\n",
       "      <td>...</td>\n",
       "      <td>...</td>\n",
       "      <td>...</td>\n",
       "      <td>...</td>\n",
       "      <td>...</td>\n",
       "    </tr>\n",
       "    <tr>\n",
       "      <th>3222</th>\n",
       "      <td>2020</td>\n",
       "      <td>SE</td>\n",
       "      <td>FT</td>\n",
       "      <td>Data Scientist</td>\n",
       "      <td>412000</td>\n",
       "      <td>USD</td>\n",
       "      <td>412000</td>\n",
       "      <td>US</td>\n",
       "      <td>100</td>\n",
       "      <td>US</td>\n",
       "      <td>L</td>\n",
       "      <td>1841640.00</td>\n",
       "    </tr>\n",
       "    <tr>\n",
       "      <th>3223</th>\n",
       "      <td>2021</td>\n",
       "      <td>MI</td>\n",
       "      <td>FT</td>\n",
       "      <td>Principal Data Scientist</td>\n",
       "      <td>151000</td>\n",
       "      <td>USD</td>\n",
       "      <td>151000</td>\n",
       "      <td>US</td>\n",
       "      <td>100</td>\n",
       "      <td>US</td>\n",
       "      <td>L</td>\n",
       "      <td>674970.00</td>\n",
       "    </tr>\n",
       "    <tr>\n",
       "      <th>3224</th>\n",
       "      <td>2020</td>\n",
       "      <td>EN</td>\n",
       "      <td>FT</td>\n",
       "      <td>Data Scientist</td>\n",
       "      <td>105000</td>\n",
       "      <td>USD</td>\n",
       "      <td>105000</td>\n",
       "      <td>US</td>\n",
       "      <td>100</td>\n",
       "      <td>US</td>\n",
       "      <td>S</td>\n",
       "      <td>469350.00</td>\n",
       "    </tr>\n",
       "    <tr>\n",
       "      <th>3225</th>\n",
       "      <td>2020</td>\n",
       "      <td>EN</td>\n",
       "      <td>CT</td>\n",
       "      <td>Business Data Analyst</td>\n",
       "      <td>100000</td>\n",
       "      <td>USD</td>\n",
       "      <td>100000</td>\n",
       "      <td>US</td>\n",
       "      <td>100</td>\n",
       "      <td>US</td>\n",
       "      <td>L</td>\n",
       "      <td>447000.00</td>\n",
       "    </tr>\n",
       "    <tr>\n",
       "      <th>3226</th>\n",
       "      <td>2021</td>\n",
       "      <td>SE</td>\n",
       "      <td>FT</td>\n",
       "      <td>Data Science Manager</td>\n",
       "      <td>7000000</td>\n",
       "      <td>INR</td>\n",
       "      <td>94665</td>\n",
       "      <td>IN</td>\n",
       "      <td>50</td>\n",
       "      <td>IN</td>\n",
       "      <td>L</td>\n",
       "      <td>423152.55</td>\n",
       "    </tr>\n",
       "  </tbody>\n",
       "</table>\n",
       "<p>3227 rows × 12 columns</p>\n",
       "</div>"
      ],
      "text/plain": [
       "      work_year experience_level employment_type                  job_title  \\\n",
       "0          2023               SE              FT               AI Scientist   \n",
       "1          2023               SE              FT  Machine Learning Engineer   \n",
       "2          2023               SE              FT  Machine Learning Engineer   \n",
       "3          2023               SE              FT              Data Engineer   \n",
       "4          2023               SE              FT              Data Engineer   \n",
       "...         ...              ...             ...                        ...   \n",
       "3222       2020               SE              FT             Data Scientist   \n",
       "3223       2021               MI              FT   Principal Data Scientist   \n",
       "3224       2020               EN              FT             Data Scientist   \n",
       "3225       2020               EN              CT      Business Data Analyst   \n",
       "3226       2021               SE              FT       Data Science Manager   \n",
       "\n",
       "       salary salary_currency  salary_in_usd employee_residence  remote_ratio  \\\n",
       "0     1500000             ILS         427820                 IL             0   \n",
       "1      216000             USD         216000                 US           100   \n",
       "2      184000             USD         184000                 US           100   \n",
       "3      180000             USD         180000                 US           100   \n",
       "4      165000             USD         165000                 US           100   \n",
       "...       ...             ...            ...                ...           ...   \n",
       "3222   412000             USD         412000                 US           100   \n",
       "3223   151000             USD         151000                 US           100   \n",
       "3224   105000             USD         105000                 US           100   \n",
       "3225   100000             USD         100000                 US           100   \n",
       "3226  7000000             INR          94665                 IN            50   \n",
       "\n",
       "     company_location company_size  salary_in_myr  \n",
       "0                  IL            L     1912355.40  \n",
       "1                  US            M      965520.00  \n",
       "2                  US            M      822480.00  \n",
       "3                  US            M      804600.00  \n",
       "4                  US            M      737550.00  \n",
       "...               ...          ...            ...  \n",
       "3222               US            L     1841640.00  \n",
       "3223               US            L      674970.00  \n",
       "3224               US            S      469350.00  \n",
       "3225               US            L      447000.00  \n",
       "3226               IN            L      423152.55  \n",
       "\n",
       "[3227 rows x 12 columns]"
      ]
     },
     "execution_count": 321,
     "metadata": {},
     "output_type": "execute_result"
    }
   ],
   "source": [
    "salaries #currently salary_in_myr is created and placed at the last column"
   ]
  },
  {
   "cell_type": "code",
   "execution_count": 322,
   "id": "08d12fa4",
   "metadata": {},
   "outputs": [
    {
     "data": {
      "text/html": [
       "<div>\n",
       "<style scoped>\n",
       "    .dataframe tbody tr th:only-of-type {\n",
       "        vertical-align: middle;\n",
       "    }\n",
       "\n",
       "    .dataframe tbody tr th {\n",
       "        vertical-align: top;\n",
       "    }\n",
       "\n",
       "    .dataframe thead th {\n",
       "        text-align: right;\n",
       "    }\n",
       "</style>\n",
       "<table border=\"1\" class=\"dataframe\">\n",
       "  <thead>\n",
       "    <tr style=\"text-align: right;\">\n",
       "      <th></th>\n",
       "      <th>salary_in_myr</th>\n",
       "    </tr>\n",
       "  </thead>\n",
       "  <tbody>\n",
       "    <tr>\n",
       "      <th>0</th>\n",
       "      <td>1912355.40</td>\n",
       "    </tr>\n",
       "    <tr>\n",
       "      <th>1</th>\n",
       "      <td>965520.00</td>\n",
       "    </tr>\n",
       "    <tr>\n",
       "      <th>2</th>\n",
       "      <td>822480.00</td>\n",
       "    </tr>\n",
       "    <tr>\n",
       "      <th>3</th>\n",
       "      <td>804600.00</td>\n",
       "    </tr>\n",
       "    <tr>\n",
       "      <th>4</th>\n",
       "      <td>737550.00</td>\n",
       "    </tr>\n",
       "    <tr>\n",
       "      <th>...</th>\n",
       "      <td>...</td>\n",
       "    </tr>\n",
       "    <tr>\n",
       "      <th>3222</th>\n",
       "      <td>1841640.00</td>\n",
       "    </tr>\n",
       "    <tr>\n",
       "      <th>3223</th>\n",
       "      <td>674970.00</td>\n",
       "    </tr>\n",
       "    <tr>\n",
       "      <th>3224</th>\n",
       "      <td>469350.00</td>\n",
       "    </tr>\n",
       "    <tr>\n",
       "      <th>3225</th>\n",
       "      <td>447000.00</td>\n",
       "    </tr>\n",
       "    <tr>\n",
       "      <th>3226</th>\n",
       "      <td>423152.55</td>\n",
       "    </tr>\n",
       "  </tbody>\n",
       "</table>\n",
       "<p>3227 rows × 1 columns</p>\n",
       "</div>"
      ],
      "text/plain": [
       "      salary_in_myr\n",
       "0        1912355.40\n",
       "1         965520.00\n",
       "2         822480.00\n",
       "3         804600.00\n",
       "4         737550.00\n",
       "...             ...\n",
       "3222     1841640.00\n",
       "3223      674970.00\n",
       "3224      469350.00\n",
       "3225      447000.00\n",
       "3226      423152.55\n",
       "\n",
       "[3227 rows x 1 columns]"
      ]
     },
     "execution_count": 322,
     "metadata": {},
     "output_type": "execute_result"
    }
   ],
   "source": [
    "salaries[['salary_in_myr']] #displaying salary_in_myr to double check if we created the column successfully"
   ]
  },
  {
   "cell_type": "markdown",
   "id": "683acff5",
   "metadata": {},
   "source": [
    "### Question A5: Descriptive Statistics"
   ]
  },
  {
   "cell_type": "code",
   "execution_count": 323,
   "id": "a0bc7170",
   "metadata": {},
   "outputs": [
    {
     "data": {
      "text/html": [
       "<div>\n",
       "<style scoped>\n",
       "    .dataframe tbody tr th:only-of-type {\n",
       "        vertical-align: middle;\n",
       "    }\n",
       "\n",
       "    .dataframe tbody tr th {\n",
       "        vertical-align: top;\n",
       "    }\n",
       "\n",
       "    .dataframe thead th {\n",
       "        text-align: right;\n",
       "    }\n",
       "</style>\n",
       "<table border=\"1\" class=\"dataframe\">\n",
       "  <thead>\n",
       "    <tr style=\"text-align: right;\">\n",
       "      <th></th>\n",
       "      <th>work_year</th>\n",
       "      <th>salary</th>\n",
       "      <th>salary_in_usd</th>\n",
       "      <th>remote_ratio</th>\n",
       "      <th>salary_in_myr</th>\n",
       "    </tr>\n",
       "  </thead>\n",
       "  <tbody>\n",
       "    <tr>\n",
       "      <th>count</th>\n",
       "      <td>3227.000000</td>\n",
       "      <td>3.227000e+03</td>\n",
       "      <td>3227.000000</td>\n",
       "      <td>3227.000000</td>\n",
       "      <td>3.227000e+03</td>\n",
       "    </tr>\n",
       "    <tr>\n",
       "      <th>mean</th>\n",
       "      <td>2022.273939</td>\n",
       "      <td>1.950125e+05</td>\n",
       "      <td>134750.294391</td>\n",
       "      <td>48.280136</td>\n",
       "      <td>6.023338e+05</td>\n",
       "    </tr>\n",
       "    <tr>\n",
       "      <th>std</th>\n",
       "      <td>0.693571</td>\n",
       "      <td>7.226896e+05</td>\n",
       "      <td>62597.458016</td>\n",
       "      <td>48.546623</td>\n",
       "      <td>2.798106e+05</td>\n",
       "    </tr>\n",
       "    <tr>\n",
       "      <th>min</th>\n",
       "      <td>2020.000000</td>\n",
       "      <td>6.000000e+03</td>\n",
       "      <td>5132.000000</td>\n",
       "      <td>0.000000</td>\n",
       "      <td>2.294004e+04</td>\n",
       "    </tr>\n",
       "    <tr>\n",
       "      <th>25%</th>\n",
       "      <td>2022.000000</td>\n",
       "      <td>9.500000e+04</td>\n",
       "      <td>92350.000000</td>\n",
       "      <td>0.000000</td>\n",
       "      <td>4.128045e+05</td>\n",
       "    </tr>\n",
       "    <tr>\n",
       "      <th>50%</th>\n",
       "      <td>2022.000000</td>\n",
       "      <td>1.350000e+05</td>\n",
       "      <td>130026.000000</td>\n",
       "      <td>50.000000</td>\n",
       "      <td>5.812162e+05</td>\n",
       "    </tr>\n",
       "    <tr>\n",
       "      <th>75%</th>\n",
       "      <td>2023.000000</td>\n",
       "      <td>1.796375e+05</td>\n",
       "      <td>172347.500000</td>\n",
       "      <td>100.000000</td>\n",
       "      <td>7.703933e+05</td>\n",
       "    </tr>\n",
       "    <tr>\n",
       "      <th>max</th>\n",
       "      <td>2023.000000</td>\n",
       "      <td>3.040000e+07</td>\n",
       "      <td>450000.000000</td>\n",
       "      <td>100.000000</td>\n",
       "      <td>2.011500e+06</td>\n",
       "    </tr>\n",
       "  </tbody>\n",
       "</table>\n",
       "</div>"
      ],
      "text/plain": [
       "         work_year        salary  salary_in_usd  remote_ratio  salary_in_myr\n",
       "count  3227.000000  3.227000e+03    3227.000000   3227.000000   3.227000e+03\n",
       "mean   2022.273939  1.950125e+05  134750.294391     48.280136   6.023338e+05\n",
       "std       0.693571  7.226896e+05   62597.458016     48.546623   2.798106e+05\n",
       "min    2020.000000  6.000000e+03    5132.000000      0.000000   2.294004e+04\n",
       "25%    2022.000000  9.500000e+04   92350.000000      0.000000   4.128045e+05\n",
       "50%    2022.000000  1.350000e+05  130026.000000     50.000000   5.812162e+05\n",
       "75%    2023.000000  1.796375e+05  172347.500000    100.000000   7.703933e+05\n",
       "max    2023.000000  3.040000e+07  450000.000000    100.000000   2.011500e+06"
      ]
     },
     "execution_count": 323,
     "metadata": {},
     "output_type": "execute_result"
    }
   ],
   "source": [
    "salaries.describe() #displaying the summary statistics of the dataset"
   ]
  },
  {
   "attachments": {},
   "cell_type": "markdown",
   "id": "632b8eb7",
   "metadata": {},
   "source": [
    "The minimum salary recorded in the dataset is approximately 5,132.00 in USD. This shows that there are some lower-paying roles or the employment type affects the salary as part time will never earn more than full time. Also the maximum salary recorded in the dataset is 450,000 in USD. This shows that this position is playing an important role in the company and probably has the most experience.\n",
    "\n",
    "It is evident from the large standard deviation of salaries that salary amounts vary significantly across the dataset. We can conclude that salary differences between 75% and 50% percentiles significantly influence the sample standard deviation because 75% percentile salaries are much higher than 50% or 25% percentile salaries."
   ]
  },
  {
   "cell_type": "markdown",
   "id": "48537ec5",
   "metadata": {},
   "source": [
    "### Question A6: Exploring Job Titles"
   ]
  },
  {
   "cell_type": "code",
   "execution_count": 325,
   "id": "eca74a16",
   "metadata": {},
   "outputs": [
    {
     "data": {
      "text/plain": [
       "array(['AI Scientist', 'Machine Learning Engineer', 'Data Engineer',\n",
       "       'Data Scientist', 'Data Analyst', 'Analytics Engineer',\n",
       "       'Machine Learning Scientist', 'Autonomous Vehicle Technician',\n",
       "       'Applied Machine Learning Scientist', 'Lead Data Scientist',\n",
       "       'Data Architect', 'Cloud Database Engineer', 'Research Engineer',\n",
       "       'Data Manager', 'Data Science Manager', 'Applied Scientist',\n",
       "       'Financial Data Analyst', 'Research Scientist',\n",
       "       'Data Infrastructure Engineer', 'ML Engineer',\n",
       "       'Software Data Engineer', 'AI Programmer', 'AI Developer',\n",
       "       'Lead Data Analyst', 'Data Operations Engineer', 'BI Developer',\n",
       "       'Data Science Lead', 'Data Analytics Manager',\n",
       "       'Deep Learning Researcher', 'BI Analyst',\n",
       "       'Data Science Consultant', 'Data Analytics Specialist',\n",
       "       'Machine Learning Infrastructure Engineer',\n",
       "       'Business Data Analyst', 'Head of Data',\n",
       "       'Computer Vision Engineer', 'BI Data Analyst',\n",
       "       'Head of Data Science', 'Data Quality Analyst', 'Insight Analyst',\n",
       "       'Applied Machine Learning Engineer', 'Deep Learning Engineer',\n",
       "       'Machine Learning Software Engineer', 'Big Data Architect',\n",
       "       'Product Data Analyst', 'Computer Vision Software Engineer',\n",
       "       'Director of Data Science', 'Azure Data Engineer',\n",
       "       'Big Data Engineer', 'Marketing Data Engineer',\n",
       "       'Applied Data Scientist', 'Data Analytics Lead', 'Data Lead',\n",
       "       'Data Science Engineer', 'Machine Learning Research Engineer',\n",
       "       'NLP Engineer', 'Manager Data Management',\n",
       "       'Machine Learning Developer', '3D Computer Vision Researcher',\n",
       "       'MLOps Engineer', 'Data Specialist',\n",
       "       'Principal Machine Learning Engineer',\n",
       "       'Machine Learning Researcher', 'Data Analytics Engineer',\n",
       "       'Data Analytics Consultant', 'Data Management Specialist',\n",
       "       'Data Science Tech Lead', 'Data Scientist Lead',\n",
       "       'Cloud Data Engineer', 'Data Operations Analyst',\n",
       "       'Marketing Data Analyst', 'Power BI Developer',\n",
       "       'Product Data Scientist', 'Principal Data Architect',\n",
       "       'Machine Learning Manager', 'Lead Machine Learning Engineer',\n",
       "       'ETL Developer', 'Cloud Data Architect', 'Lead Data Engineer',\n",
       "       'Head of Machine Learning', 'Principal Data Analyst',\n",
       "       'Principal Data Scientist', 'Principal Data Engineer',\n",
       "       'Staff Data Scientist', 'Finance Data Analyst'], dtype=object)"
      ]
     },
     "execution_count": 325,
     "metadata": {},
     "output_type": "execute_result"
    }
   ],
   "source": [
    "salaries['job_title'].unique() #displaying all the unique job titles"
   ]
  },
  {
   "cell_type": "code",
   "execution_count": 438,
   "id": "09c1ea9d",
   "metadata": {},
   "outputs": [
    {
     "data": {
      "text/plain": [
       "Data Engineer                        906\n",
       "Data Scientist                       721\n",
       "Data Analyst                         537\n",
       "Machine Learning Engineer            250\n",
       "Data Architect                        85\n",
       "                                    ... \n",
       "Manager Data Management                1\n",
       "Marketing Data Engineer                1\n",
       "Azure Data Engineer                    1\n",
       "Applied Machine Learning Engineer      1\n",
       "Finance Data Analyst                   1\n",
       "Name: job_title, Length: 85, dtype: int64"
      ]
     },
     "execution_count": 438,
     "metadata": {},
     "output_type": "execute_result"
    }
   ],
   "source": [
    "salaries['job_title'].value_counts() #counting the unique job titles that were recorded in the ‘job_title’ column"
   ]
  },
  {
   "cell_type": "markdown",
   "id": "349419f3",
   "metadata": {},
   "source": [
    "As we can see from the returning value, there are 85 unique job titles with its count"
   ]
  },
  {
   "cell_type": "code",
   "execution_count": 327,
   "id": "e7d612ea",
   "metadata": {},
   "outputs": [],
   "source": [
    "data_scientist = (salaries['job_title'] == 'Data Scientist').mean() * 100"
   ]
  },
  {
   "cell_type": "markdown",
   "id": "f39e2d18",
   "metadata": {},
   "source": [
    "I define a new variable as data_scientist then use the mean function to calculate the ratio of records of Data Scientist recorded in job_titles, after, i multiply it with 100 to get in the form of percentage"
   ]
  },
  {
   "cell_type": "code",
   "execution_count": 328,
   "id": "dcc1a809",
   "metadata": {},
   "outputs": [
    {
     "data": {
      "text/plain": [
       "22.342733188720175"
      ]
     },
     "execution_count": 328,
     "metadata": {},
     "output_type": "execute_result"
    }
   ],
   "source": [
    "data_scientist #displaying the output for the above calculation"
   ]
  },
  {
   "cell_type": "markdown",
   "id": "91dbc1f3",
   "metadata": {},
   "source": [
    "As we can see from the returning output, there are 22.3% of Data Scientist in the dataset"
   ]
  },
  {
   "cell_type": "markdown",
   "id": "7f660594",
   "metadata": {},
   "source": [
    "### Question A7: Exploring location of Companies"
   ]
  },
  {
   "cell_type": "code",
   "execution_count": 435,
   "id": "c59ebbd0",
   "metadata": {},
   "outputs": [
    {
     "data": {
      "text/plain": [
       "US    2575\n",
       "GB     159\n",
       "CA      69\n",
       "ES      68\n",
       "IN      54\n",
       "      ... \n",
       "MA       1\n",
       "SK       1\n",
       "AL       1\n",
       "BS       1\n",
       "MT       1\n",
       "Name: company_location, Length: 70, dtype: int64"
      ]
     },
     "execution_count": 435,
     "metadata": {},
     "output_type": "execute_result"
    }
   ],
   "source": [
    "salaries['company_location'].value_counts()"
   ]
  },
  {
   "cell_type": "markdown",
   "id": "aa6d9e9c",
   "metadata": {},
   "source": [
    "The returning value is displaying all the the comapany in each countries recorded in the dataset "
   ]
  },
  {
   "cell_type": "code",
   "execution_count": 331,
   "id": "a24a6ed6",
   "metadata": {},
   "outputs": [
    {
     "data": {
      "text/plain": [
       "(227, 12)"
      ]
     },
     "execution_count": 331,
     "metadata": {},
     "output_type": "execute_result"
    }
   ],
   "source": [
    "filt = ((salaries['company_size'] == 'L') & (salaries['company_location'] == 'US'))\n",
    "new_salaries = salaries[filt]\n",
    "new_salaries.shape"
   ]
  },
  {
   "cell_type": "markdown",
   "id": "c4be115c",
   "metadata": {},
   "source": [
    "From the above returning value, the code filters the dataset to include only rows where the company_size is 'L' and the company_location is in the'US', and then it prints the total rows and column with the specific requirements. \n",
    "\n",
    "It has shown that there are 227 'L' sized companies in the US"
   ]
  },
  {
   "cell_type": "markdown",
   "id": "75c61a0f",
   "metadata": {},
   "source": [
    "# Task B: Group Level Analysis and Visualisation:"
   ]
  },
  {
   "cell_type": "markdown",
   "id": "d36ba060",
   "metadata": {},
   "source": [
    "## Question B1: Investigating Employment Type"
   ]
  },
  {
   "cell_type": "markdown",
   "id": "3f73c2ea",
   "metadata": {},
   "source": [
    "### Question B1.1"
   ]
  },
  {
   "cell_type": "code",
   "execution_count": 332,
   "id": "92103534",
   "metadata": {},
   "outputs": [],
   "source": [
    "import matplotlib.pyplot as plt\n",
    "%matplotlib inline\n",
    "#importing requires library to perform data visualisation"
   ]
  },
  {
   "cell_type": "code",
   "execution_count": 370,
   "id": "9148612e",
   "metadata": {},
   "outputs": [
    {
     "data": {
      "image/png": "[encoded data removed]",
      "text/plain": [
       "<Figure size 1000x600 with 1 Axes>"
      ]
     },
     "metadata": {},
     "output_type": "display_data"
    }
   ],
   "source": [
    "full_time = salaries[salaries['employment_type'] == 'FT']\n",
    "top_5_job_title = full_time.groupby('job_title')['salary_in_usd'].max().nlargest(5)\n",
    "\n",
    "plt.figure(figsize=(10, 6))\n",
    "plt.bar(top_5_job_title.index, top_5_job_title.values, color='pink')\n",
    "plt.title('Top 5 Jobs with Highest Salary for Full-time Employment')\n",
    "plt.xlabel('Job Title')\n",
    "plt.ylabel('Salary (in USD)')\n",
    "plt.xticks(rotation=45, ha='right')\n",
    "plt.show()"
   ]
  },
  {
   "attachments": {},
   "cell_type": "markdown",
   "id": "05a093ee",
   "metadata": {},
   "source": [
    "To be able to get the highest salary for full time employment type, i first set the condition to 'FT' and group by all the job titles so the output would not show duplicate job title and i proceed to filter the top 5 jobs with the nlargest function. The returning value has shown that Research Scientist has the highest salary for full time employment type following by Data Analyst, AI Scientist, Applied Machine Learning Scientist and Data Scientist. This also shows that these roles are having a high demand in the industry where companies are willing to spend more money to hire these intelligent for company growth."
   ]
  },
  {
   "cell_type": "code",
   "execution_count": 374,
   "id": "f2f90e17",
   "metadata": {},
   "outputs": [
    {
     "data": {
      "text/plain": [
       "'Research Scientist'"
      ]
     },
     "execution_count": 374,
     "metadata": {},
     "output_type": "execute_result"
    }
   ],
   "source": [
    "max_salary = salaries[salaries['employment_type'] == 'FT']['salary_in_usd'].max()\n",
    "highest_salary = salaries[(salaries['employment_type'] == 'FT') & (salaries['salary_in_usd'] == max_salary)]\n",
    "highest_salary['job_title'].values[0]"
   ]
  },
  {
   "cell_type": "markdown",
   "id": "2f3ea0df",
   "metadata": {},
   "source": [
    "To ensure if my bar chart has shown the correct answer, i did a test to check if my answer is correct. I first set the employement type to 'FT' and use max function to check the highest salary for that specific employment type. My next step was to filter the dataset to include only rows where both employment_type and salary_in_usd columns equal to the maximum salary calculated previously. The last line was to retrieve the output of the previous line and show the job title only. \n",
    "\n",
    "The returning value has shown Reasearch Scientist was indeed the highest salary with the full time employment type."
   ]
  },
  {
   "cell_type": "markdown",
   "id": "e51d9253",
   "metadata": {},
   "source": [
    "### Question B1.2"
   ]
  },
  {
   "cell_type": "code",
   "execution_count": 383,
   "id": "164b1415",
   "metadata": {},
   "outputs": [
    {
     "data": {
      "image/png": "[encoded data removed]",
      "text/plain": [
       "<Figure size 1000x600 with 1 Axes>"
      ]
     },
     "metadata": {},
     "output_type": "display_data"
    }
   ],
   "source": [
    "part_time = salaries[salaries['employment_type'] == 'PT']\n",
    "top_5_job_title_pt = part_time.groupby('job_title')['salary_in_usd'].max().nlargest(5)\n",
    "\n",
    "plt.figure(figsize=(10, 6))\n",
    "plt.bar(top_5_job_title_pt.index, top_5_job_title_pt.values, color='pink')\n",
    "plt.title('Top 5 Jobs with Highest Salary for Part-time Employment')\n",
    "plt.xlabel('Job Title')\n",
    "plt.ylabel('Salary (in USD)')\n",
    "plt.xticks(rotation=45, ha='right')\n",
    "plt.show()"
   ]
  },
  {
   "attachments": {},
   "cell_type": "markdown",
   "id": "6c049844",
   "metadata": {},
   "source": [
    "To be able to get the highest salary for part time employment type, i first set the condition to 'PT' and group by all the job titles so the output would not show duplicate job title and i proceed to filter the top 5 jobs with the nlargest function. The returning value has shown that Data Analyst has the highest salary for part time employment type following by Data Scientist, Data Engineer, Computer Vision Engineer, and Computer Vision Software Engineer. Based on the following graph, we show the top 5 part-time job titles that offer the highest salaries. It is likely that these roles are in industries that are conducive to part-time work due to their specializations or high demand. It is clear that there is a demand for skilled professionals in part-time employment arrangements due to the existence of job titles with high salaries. People seeking flexible work schedules and competitive salaries may be drawn to these roles."
   ]
  },
  {
   "cell_type": "code",
   "execution_count": 360,
   "id": "a7b4f863",
   "metadata": {},
   "outputs": [
    {
     "data": {
      "text/plain": [
       "'Data Analyst'"
      ]
     },
     "execution_count": 360,
     "metadata": {},
     "output_type": "execute_result"
    }
   ],
   "source": [
    "max_salary = salaries[salaries['employment_type'] == 'PT']['salary_in_usd'].max()\n",
    "highest_salary = salaries[(salaries['employment_type'] == 'PT') & (salaries['salary_in_usd'] == max_salary)]\n",
    "highest_salary['job_title'].values[0]"
   ]
  },
  {
   "cell_type": "markdown",
   "id": "08328adf",
   "metadata": {},
   "source": [
    "To ensure if my barchart has shown the correct answer, i did a test to check if my answer is correct. I first set the employement type to 'PT' and use max function to check the highest salary for that specific employment type. My next step was to filter the dataset to include only rows where both employment_type and salary_in_usd columns equaled the maximum salary calculated previously. The last line was to retrieve the output of the previous line and show the job title only. \n",
    "\n",
    "The returning value has shown Data Analyst was indeed the highest salary with the part time employment type."
   ]
  },
  {
   "cell_type": "markdown",
   "id": "215cf97e",
   "metadata": {},
   "source": [
    "### Question B1.3"
   ]
  },
  {
   "cell_type": "code",
   "execution_count": 420,
   "id": "555c031a",
   "metadata": {},
   "outputs": [
    {
     "data": {
      "image/png": "[encoded data removed]",
      "text/plain": [
       "<Figure size 800x600 with 1 Axes>"
      ]
     },
     "metadata": {},
     "output_type": "display_data"
    }
   ],
   "source": [
    "highest_salary_by_employement_type = salaries.groupby('employment_type')['salary_in_usd'].max().reset_index()\n",
    "\n",
    "plt.figure(figsize=(8, 6))\n",
    "plt.bar(highest_salaries_by_type['employment_type'], highest_salary_by_employement_type['salary_in_usd'], color=['orange', 'moccasin', 'papayawhip', 'oldlace'])\n",
    "plt.title('Highest Salary by Employment Type')\n",
    "plt.xlabel('Employment Type')\n",
    "plt.ylabel('Salary (USD)')\n",
    "plt.show()"
   ]
  },
  {
   "cell_type": "markdown",
   "id": "7e2b2272",
   "metadata": {},
   "source": [
    "Among all of the employment types shown, full-time employment has the highest salary. It is evident from these data that full-time employment tends to pay the highest wages compared with other employment arrangements. The salary level of contract positions falls between the levels of full-time and part-time employment. Because contract work tends to be more varied and smaller, contract roles usually offer higher wages than part-time positions, but lower wages than full-time positions. Furthermore, there is a significant difference between the highest salary earned by part-timers and those earned by full-timers. Typically, part-time positions offer lower salaries than full-time positions since fewer hours are worked and benefits may be limited. As shown in the graph, freelancers have the lowest salaries among all employment types. Compared to other types of employment arrangements, temporary jobs tend to have the lowest maximum salaries. The reason for this may be that they are temporary and often short-term in nature."
   ]
  },
  {
   "cell_type": "markdown",
   "id": "3df563b0",
   "metadata": {},
   "source": [
    "## Question B2: Investigating Remote Ratio"
   ]
  },
  {
   "cell_type": "markdown",
   "id": "efa38cb4",
   "metadata": {},
   "source": [
    "### Question B2.1"
   ]
  },
  {
   "cell_type": "code",
   "execution_count": 530,
   "id": "90f43412",
   "metadata": {},
   "outputs": [
    {
     "data": {
      "text/plain": [
       "company_location\n",
       "US    119850\n",
       "GB      6850\n",
       "CA      4500\n",
       "Name: remote_ratio, dtype: int64"
      ]
     },
     "execution_count": 530,
     "metadata": {},
     "output_type": "execute_result"
    }
   ],
   "source": [
    "country_remote_ratio_sum = salaries.groupby('company_location')['remote_ratio'].sum()\n",
    "top_3_countries = country_remote_ratio_sum.sort_values(ascending=False)\n",
    "top_3_countries.head(3)"
   ]
  },
  {
   "cell_type": "markdown",
   "id": "53130036",
   "metadata": {},
   "source": [
    "To get the highest value, i first groupby company_location and remote_ratio then perform addition for all the remote_ratio for each country then i use sort_values to give the output in decending way so that we can get the largest three countries with the highest remote ratio. The returning values has shown that United States (US), Great Britain (GB), and Canada (CA) have the highest recorded remote ratio.  "
   ]
  },
  {
   "cell_type": "markdown",
   "id": "aa0d380b",
   "metadata": {},
   "source": [
    "### Question B2.2"
   ]
  },
  {
   "cell_type": "code",
   "execution_count": 474,
   "id": "6d9b9692",
   "metadata": {},
   "outputs": [
    {
     "data": {
      "image/png": "[encoded data removed]",
      "text/plain": [
       "<Figure size 1200x600 with 1 Axes>"
      ]
     },
     "metadata": {},
     "output_type": "display_data"
    }
   ],
   "source": [
    "country_remote_ratio = salaries.groupby(['company_location', 'remote_ratio']).size().unstack(fill_value=0)\n",
    "top_3_countries = country_remote_ratio.sum(axis=1).nlargest(3).index\n",
    "top_3_salaries = salaries[salaries['company_location'].isin(top_3_countries)]\n",
    "percentage_distribution = top_3_salaries.groupby(['company_location', 'remote_ratio']).size() / top_3_salaries.groupby('company_location').size() * 100\n",
    "percentage_distribution = percentage_distribution.unstack()\n",
    "\n",
    "ax = percentage_distribution.plot(kind='bar', figsize=(12, 6), width=0.8, color=['lightblue', 'lightgreen', 'salmon'], alpha=0.7)\n",
    "\n",
    "plt.title('Distribution of Remote Ratio by Country')\n",
    "plt.xlabel('Country')\n",
    "plt.ylabel('Percentage (%)')\n",
    "plt.xticks(rotation=0)\n",
    "plt.legend(['No Remote', 'Partial Remote', 'Fully Remote'], loc='upper left', bbox_to_anchor=(1, 1))\n",
    "plt.grid(True)\n",
    "plt.show()"
   ]
  },
  {
   "cell_type": "markdown",
   "id": "4097d024",
   "metadata": {},
   "source": [
    "As seen in the bar chart above, the top three countries with the highest overall remote work involvement have the highest remote work ratios. The bar graphs illustrate the proportion of companies that work remotely in each country: \"No Remote\", \"Partial Remote\", and \"Fully Remote\". Many companies in the United States offer some form of remote work, with a significant percentage offering full-time remote work. As a result, remote work practices are widely used in the US job market. In the GB, remote work distribution is more balanced than in the US. A notable percentage of companies do not offer remote work, even though a substantial number offer fully remote options. In comparison with the GB, Canada exhibits a similar balance in remote work. There are, however, fewer fully remote companies in Canada than in the US and UK, indicating that there is a lower prevalence of remote work in Canadian companies compared to those in the US and UK."
   ]
  },
  {
   "cell_type": "markdown",
   "id": "f50b340a",
   "metadata": {},
   "source": [
    "## B3. Investigating Experience level"
   ]
  },
  {
   "cell_type": "markdown",
   "id": "cc971dbc",
   "metadata": {},
   "source": [
    "### Question B3.1"
   ]
  },
  {
   "cell_type": "code",
   "execution_count": 335,
   "id": "2ab19df7",
   "metadata": {},
   "outputs": [
    {
     "data": {
      "text/plain": [
       "SE    2123\n",
       "MI     734\n",
       "EN     277\n",
       "EX      93\n",
       "Name: experience_level, dtype: int64"
      ]
     },
     "execution_count": 335,
     "metadata": {},
     "output_type": "execute_result"
    }
   ],
   "source": [
    "salaries['experience_level'].value_counts()"
   ]
  },
  {
   "cell_type": "markdown",
   "id": "e37e0438",
   "metadata": {},
   "source": [
    "At the very beginning of this investigation, i would want to discover how many types of experience level are there, as shown as the returning results, there are a total of four experience level which are SE, MI, EN and EX"
   ]
  },
  {
   "cell_type": "code",
   "execution_count": 439,
   "id": "4a202ef2",
   "metadata": {},
   "outputs": [],
   "source": [
    "grouped_data = salaries.groupby('experience_level')\n",
    "average_salary = grouped_data['salary_in_usd'].mean()"
   ]
  },
  {
   "cell_type": "markdown",
   "id": "1d722ad4",
   "metadata": {},
   "source": [
    "Then, i would want to discover the average salary of each experience respectively. Firstly, i used the group by function to group all employees with the same experience level. Secondly, i use the mean function to calculate the average salary of each experience level."
   ]
  },
  {
   "cell_type": "code",
   "execution_count": 448,
   "id": "252e3fa6",
   "metadata": {},
   "outputs": [
    {
     "data": {
      "image/png": "[encoded data removed]",
      "text/plain": [
       "<Figure size 1000x600 with 1 Axes>"
      ]
     },
     "metadata": {},
     "output_type": "display_data"
    }
   ],
   "source": [
    "plt.figure(figsize=(10, 6))\n",
    "plt.plot(average_salary.index, average_salary.values, marker='o', color='blue', linestyle='-')\n",
    "plt.title('Average Salary by Experience Level')\n",
    "plt.xlabel('Experience Level')\n",
    "plt.ylabel('Average Salary (USD)')\n",
    "plt.grid(True)\n",
    "plt.show()"
   ]
  },
  {
   "cell_type": "markdown",
   "id": "52657f97",
   "metadata": {},
   "source": [
    "Furthermore, i have created a line chart to visualise my findings from the above code. We can obviously see that there are different average salary for each experience level. From highest to lowest average salary, it goes from EX,SE, MI and EN. We can also conclude that EX is the most experienced employees as they have higher salary and EN is the least experienced employees and most likely to be an entry level employee as they have the lowest average salary because they are still new. A positive correlation exists between experience level and salary based on this ranking."
   ]
  },
  {
   "cell_type": "markdown",
   "id": "05d95921",
   "metadata": {},
   "source": [
    "### Question B3.2"
   ]
  },
  {
   "cell_type": "code",
   "execution_count": 517,
   "id": "3751cb19",
   "metadata": {},
   "outputs": [],
   "source": [
    "grouped_data = salaries.groupby(['experience_level', 'job_title'])\n",
    "average_salary = grouped_data['salary_in_usd'].mean()\n",
    "highest_avg_salary_level = average_salary.idxmax()\n",
    "highest_avg_salary_job = highest_avg_salary_level[1]"
   ]
  },
  {
   "cell_type": "code",
   "execution_count": 518,
   "id": "b69c29cd",
   "metadata": {},
   "outputs": [
    {
     "data": {
      "text/plain": [
       "'Principal Data Scientist'"
      ]
     },
     "execution_count": 518,
     "metadata": {},
     "output_type": "execute_result"
    }
   ],
   "source": [
    "highest_avg_salary_job"
   ]
  },
  {
   "cell_type": "markdown",
   "id": "c12551ef",
   "metadata": {},
   "source": [
    "Firstly, we will set a filter to obtain which job has the highest association between experience Level and the salary. We will first group by the needed column then perform a mean calculation and use idxmax to obtain the highest value. Then, we can see that our answer will be Principal Data Scientist’."
   ]
  },
  {
   "cell_type": "code",
   "execution_count": 526,
   "id": "f837c053",
   "metadata": {},
   "outputs": [
    {
     "data": {
      "text/plain": [
       "<function matplotlib.pyplot.show(close=None, block=None)>"
      ]
     },
     "execution_count": 526,
     "metadata": {},
     "output_type": "execute_result"
    },
    {
     "data": {
      "image/png": "[encoded data removed]",
      "text/plain": [
       "<Figure size 1000x600 with 1 Axes>"
      ]
     },
     "metadata": {},
     "output_type": "display_data"
    }
   ],
   "source": [
    "principal_data_scientist_data = salaries[salaries['job_title'] == 'Principal Data Scientist']\n",
    "grouped_data = principal_data_scientist_data.groupby('experience_level')\n",
    "average_salary = grouped_data['salary_in_usd'].mean()\n",
    "plt.figure(figsize=(10, 6))\n",
    "plt.plot(average_salary.index, average_salary.values, marker='o', color='lightgreen', linestyle='-')\n",
    "plt.title('Average Salary Trend for Principal Data Scientist')\n",
    "plt.xlabel('Experience Level')\n",
    "plt.ylabel('Average Salary (USD)')\n",
    "plt.grid(True)\n",
    "plt.show"
   ]
  },
  {
   "cell_type": "markdown",
   "id": "f274039a",
   "metadata": {},
   "source": [
    "Since we already know principal data scientist has the highest association between experience Level and the salary. We then visualise is with the line graph to observe the pattern of the spike. Currently there are no EN level principal data scientist to be shown in the grapgh, we can actually conclude that this position is a highly technical position where it requires a high knowledge and problem solving skills"
   ]
  }
 ],
 "metadata": {
  "kernelspec": {
   "display_name": "Python 3 (ipykernel)",
   "language": "python",
   "name": "python3"
  },
  "language_info": {
   "codemirror_mode": {
    "name": "ipython",
    "version": 3
   },
   "file_extension": ".py",
   "mimetype": "text/x-python",
   "name": "python",
   "nbconvert_exporter": "python",
   "pygments_lexer": "ipython3",
   "version": "3.10.9"
  }
 },
 "nbformat": 4,
 "nbformat_minor": 5
}
